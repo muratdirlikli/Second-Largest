{
 "cells": [
  {
   "cell_type": "markdown",
   "id": "874167a2",
   "metadata": {},
   "source": [
    "## Challenge(Second Largest)"
   ]
  },
  {
   "cell_type": "markdown",
   "id": "2ce0817d",
   "metadata": {},
   "source": [
    "**Instructions:**\n",
    "\n",
    "Write a Python program that prompts the user to enter a list of integers, and then uses a <code>while</code> loop to find and print the <code>second largest number</code> in the list.<br><br>\n",
    "**Expected output:**<br>\n",
    "Enter a list of integers separated by spaces: 5 2 8 10 3<br>\n",
    "The second largest number is: 8"
   ]
  },
  {
   "cell_type": "code",
   "execution_count": 2,
   "id": "b22147b5",
   "metadata": {
    "ExecuteTime": {
     "end_time": "2023-11-24T19:55:07.641686Z",
     "start_time": "2023-11-24T19:54:57.282514Z"
    },
    "scrolled": true
   },
   "outputs": [
    {
     "name": "stdout",
     "output_type": "stream",
     "text": [
      "Please enter numbers with space: 5 2 8 10 3\n",
      "8\n"
     ]
    }
   ],
   "source": [
    "lst = input(\"Please enter numbers with space: \")\n",
    "lst = list(map(int,lst.split()))\n",
    "second_largest = 0\n",
    "largest = min(lst)\n",
    "i=0\n",
    "while i <len(lst):\n",
    "    if lst[i]>largest:\n",
    "        second_largest = largest\n",
    "        largest = lst[i]\n",
    "    else:\n",
    "        second_largest = max(second_largest,lst[i])\n",
    "    i+=1\n",
    "print(second_largest)"
   ]
  }
 ],
 "metadata": {
  "hide_input": false,
  "kernelspec": {
   "display_name": "Python 3 (ipykernel)",
   "language": "python",
   "name": "python3"
  },
  "language_info": {
   "codemirror_mode": {
    "name": "ipython",
    "version": 3
   },
   "file_extension": ".py",
   "mimetype": "text/x-python",
   "name": "python",
   "nbconvert_exporter": "python",
   "pygments_lexer": "ipython3",
   "version": "3.11.5"
  },
  "nbTranslate": {
   "displayLangs": [
    "*"
   ],
   "hotkey": "alt-t",
   "langInMainMenu": true,
   "sourceLang": "en",
   "targetLang": "fr",
   "useGoogleTranslate": true
  },
  "toc": {
   "base_numbering": 1,
   "nav_menu": {},
   "number_sections": true,
   "sideBar": true,
   "skip_h1_title": false,
   "title_cell": "Table of Contents",
   "title_sidebar": "Contents",
   "toc_cell": false,
   "toc_position": {},
   "toc_section_display": true,
   "toc_window_display": false
  },
  "varInspector": {
   "cols": {
    "lenName": 16,
    "lenType": 16,
    "lenVar": 40
   },
   "kernels_config": {
    "python": {
     "delete_cmd_postfix": "",
     "delete_cmd_prefix": "del ",
     "library": "var_list.py",
     "varRefreshCmd": "print(var_dic_list())"
    },
    "r": {
     "delete_cmd_postfix": ") ",
     "delete_cmd_prefix": "rm(",
     "library": "var_list.r",
     "varRefreshCmd": "cat(var_dic_list()) "
    }
   },
   "types_to_exclude": [
    "module",
    "function",
    "builtin_function_or_method",
    "instance",
    "_Feature"
   ],
   "window_display": false
  },
  "vp": {
   "vp_config_version": "1.0.0",
   "vp_menu_width": 273,
   "vp_note_display": false,
   "vp_note_width": 0,
   "vp_position": {
    "width": 278
   },
   "vp_section_display": false,
   "vp_signature": "VisualPython"
  }
 },
 "nbformat": 4,
 "nbformat_minor": 5
}
